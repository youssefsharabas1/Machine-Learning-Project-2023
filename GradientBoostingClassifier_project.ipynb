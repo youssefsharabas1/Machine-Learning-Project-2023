{
  "nbformat": 4,
  "nbformat_minor": 0,
  "metadata": {
    "colab": {
      "provenance": []
    },
    "kernelspec": {
      "name": "python3",
      "display_name": "Python 3"
    },
    "language_info": {
      "name": "python"
    }
  },
  "cells": [
    {
      "cell_type": "code",
      "execution_count": 1,
      "metadata": {
        "colab": {
          "base_uri": "https://localhost:8080/"
        },
        "id": "nGP6cZSrkxIr",
        "outputId": "1803345c-29e3-4592-ead4-9ed1a5df65a5"
      },
      "outputs": [
        {
          "output_type": "stream",
          "name": "stdout",
          "text": [
            "Gradient Boosting Classifier accuracy is : 0.97\n",
            "              precision    recall  f1-score   support\n",
            "\n",
            "           2       0.98      0.97      0.98       106\n",
            "           4       0.95      0.97      0.96        65\n",
            "\n",
            "    accuracy                           0.97       171\n",
            "   macro avg       0.97      0.97      0.97       171\n",
            "weighted avg       0.97      0.97      0.97       171\n",
            "\n"
          ]
        }
      ],
      "source": [
        "#GradientBoostingClassifier\n",
        "\n",
        "# Import models and utility functions\n",
        "from sklearn.ensemble import GradientBoostingClassifier\n",
        "from sklearn.model_selection import train_test_split\n",
        "from sklearn.metrics import accuracy_score\n",
        "from sklearn.datasets import load_digits\n",
        "from sklearn.metrics import classification_report, confusion_matrix\n",
        "import pandas as pd\n",
        "import numpy as np\n",
        "# Setting SEED for reproducibility\n",
        "SEED = 23\n",
        "\n",
        "\n",
        "df = pd.read_csv('/content/Breast Cancer.csv')\n",
        "df\n",
        "x=df.drop(['Sample code number','Class'],axis=1)\n",
        "x\n",
        "y=np.array(df['Class'])\n",
        "# Importing the dataset\n",
        "\n",
        " \n",
        "# Splitting dataset\n",
        "train_x, test_x, train_y, test_y = train_test_split(x, y,\n",
        "                                                    test_size = 0.25,\n",
        "                                                    random_state = SEED)\n",
        " \n",
        "# Instantiate Gradient Boosting Regressor\n",
        "gbc = GradientBoostingClassifier(n_estimators=300,\n",
        "                                 learning_rate=0.05,\n",
        "                                 random_state=100,\n",
        "                                 max_features=5 )\n",
        "# Fit to training set\n",
        "gbc.fit(train_x, train_y)\n",
        " \n",
        "# Predict on test set\n",
        "pred_y = gbc.predict(test_x)\n",
        " \n",
        "# accuracy\n",
        "acc = accuracy_score(test_y, pred_y)\n",
        "print(\"Gradient Boosting Classifier accuracy is : {:.2f}\".format(acc))\n",
        "print(classification_report(test_y,pred_y))"
      ]
    }
  ]
}