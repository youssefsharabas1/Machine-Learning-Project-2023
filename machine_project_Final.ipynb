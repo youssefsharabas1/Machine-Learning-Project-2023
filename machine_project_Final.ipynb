{
  "nbformat": 4,
  "nbformat_minor": 0,
  "metadata": {
    "colab": {
      "provenance": []
    },
    "kernelspec": {
      "name": "python3",
      "display_name": "Python 3"
    },
    "language_info": {
      "name": "python"
    }
  },
  "cells": [
    {
      "cell_type": "code",
      "execution_count": 99,
      "metadata": {
        "colab": {
          "base_uri": "https://localhost:8080/"
        },
        "id": "PcKT1TJVc2Nn",
        "outputId": "51b9e0ed-ab7a-4c03-8951-7dab8d84c2a6"
      },
      "outputs": [
        {
          "output_type": "stream",
          "name": "stdout",
          "text": [
            "Drive already mounted at /content/drive; to attempt to forcibly remount, call drive.mount(\"/content/drive\", force_remount=True).\n",
            "Accuracy: 0.9635036496350365\n",
            "Recall: 1.0\n",
            "Precision: 0.9056603773584906\n",
            "F1_score: 0.9504950495049505\n"
          ]
        }
      ],
      "source": [
        "#naive bayes\n",
        "\n",
        "import pandas as pd\n",
        "import numpy as np\n",
        "from sklearn.model_selection import train_test_split\n",
        "from sklearn.naive_bayes import GaussianNB\n",
        "from sklearn.metrics import accuracy_score, recall_score, precision_score, f1_score\n",
        "from sklearn import preprocessing\n",
        "import seaborn as sns\n",
        "import matplotlib.pyplot as plt\n",
        "from sklearn.metrics import confusion_matrix\n",
        "\n",
        "# Load the training data\n",
        "df = pd.read_csv('/content/Breast Cancer.csv')\n",
        "\n",
        "from google.colab import drive\n",
        "drive.mount('/content/drive')\n",
        "\n",
        "X = df.drop(['Sample code number','Class'] , axis = 1)\n",
        "\n",
        "y = np.array(df['Class'])\n",
        "\n",
        "X_train, X_test, y_train, y_test = train_test_split (X, y, test_size=0.2)\n",
        "\n",
        "\n",
        "\n",
        "clf = GaussianNB()\n",
        "clf.fit(X_train, y_train)\n",
        "\n",
        "\n",
        "y_pred = clf.predict(X_test)\n",
        "\n",
        "from sklearn import preprocessing\n",
        "  \n",
        "label_encoder = preprocessing.LabelEncoder()\n",
        "\n",
        "y = label_encoder.fit_transform(y)\n",
        "y_test = label_encoder.fit_transform(y_test)\n",
        "\n",
        "y_pred = label_encoder.fit_transform(y_pred)\n",
        "\n",
        "accuracy1 = accuracy_score(y_test, y_pred)\n",
        "print('Accuracy:', accuracy1)\n",
        "recall1 = recall_score(y_test, y_pred)\n",
        "print('Recall:', recall1)\n",
        "precision1 = precision_score(y_test, y_pred)\n",
        "print('Precision:', precision1)\n",
        "f11 = f1_score(y_test,y_pred)\n",
        "print('F1_score:', f11)"
      ]
    },
    {
      "cell_type": "code",
      "source": [
        "#SVM\n",
        "\n",
        "import pandas as pd\n",
        "import numpy as np\n",
        "\n",
        "from sklearn import datasets\n",
        "from sklearn.model_selection import train_test_split\n",
        "from sklearn.svm import SVC\n",
        "\n",
        "\n",
        "\n",
        "from sklearn.model_selection import train_test_split\n",
        "from sklearn.naive_bayes import GaussianNB\n",
        "from sklearn.metrics import accuracy_score, recall_score, precision_score, f1_score\n",
        "from sklearn import preprocessing\n",
        "import seaborn as sns\n",
        "import matplotlib.pyplot as plt\n",
        "from sklearn.metrics import confusion_matrix\n",
        "\n",
        "\n",
        "df = pd.read_csv('/content/Breast Cancer.csv')\n",
        "X = df.drop(['Sample code number','Class'] , axis = 1)\n",
        "y = np.array(df['Class'])\n",
        "\n",
        "X_train, X_test, y_train, y_test = train_test_split(X, y, test_size=0.2, random_state=42)\n",
        "\n",
        "print(len(X_train))\n",
        "print(len(X_test))\n",
        "\n",
        "\n",
        "svm = SVC(C=1.0, kernel='rbf', degree=3, gamma='scale', coef0=0.0, shrinking=True, probability=False, tol=0.001, cache_size=200, class_weight=None, verbose=False, max_iter=-1, decision_function_shape='ovr', break_ties=False, random_state=None)\n",
        "\n",
        "\n",
        "svm.fit(X_train, y_train)\n",
        "\n",
        "y_pred = svm.predict(X_test)\n",
        "\n",
        "accuracy2 = accuracy_score(y_test, y_pred)\n",
        "print('Accuracy:', accuracy2)\n",
        "recall2 = recall_score(y_test, y_pred,pos_label=4)\n",
        "print('Recall:', recall2)\n",
        "precision2 = precision_score(y_test, y_pred,pos_label=4)\n",
        "print('Precision:', precision2)\n",
        "f12 = f1_score(y_test,y_pred,pos_label=4)\n",
        "print('F1_score:', f12)"
      ],
      "metadata": {
        "colab": {
          "base_uri": "https://localhost:8080/"
        },
        "id": "IvMbd7ybe1q6",
        "outputId": "a009ebc5-d25c-4c74-b8cc-ffea18d2138a"
      },
      "execution_count": 100,
      "outputs": [
        {
          "output_type": "stream",
          "name": "stdout",
          "text": [
            "546\n",
            "137\n",
            "Accuracy: 0.948905109489051\n",
            "Recall: 0.9137931034482759\n",
            "Precision: 0.9636363636363636\n",
            "F1_score: 0.9380530973451328\n"
          ]
        }
      ]
    },
    {
      "cell_type": "code",
      "source": [
        "\n",
        "#GradientBoostingClassifier\n",
        "\n",
        "# Import models and utility functions\n",
        "from sklearn.ensemble import GradientBoostingClassifier\n",
        "from sklearn.model_selection import train_test_split\n",
        "from sklearn.metrics import accuracy_score, recall_score, precision_score, f1_score\n",
        "from sklearn.datasets import load_digits\n",
        "from sklearn.metrics import classification_report, confusion_matrix\n",
        "import pandas as pd\n",
        "import numpy as np\n",
        "# Setting SEED for reproducibility\n",
        "SEED = 23\n",
        "\n",
        "\n",
        "df = pd.read_csv('/content/Breast Cancer.csv')\n",
        "df\n",
        "x=df.drop(['Sample code number','Class'],axis=1)\n",
        "x\n",
        "y=np.array(df['Class'])\n",
        "# Importing the dataset\n",
        "\n",
        " \n",
        "# Splitting dataset\n",
        "train_x, test_x, train_y, test_y = train_test_split(x, y,\n",
        "                                                    test_size = 0.25,\n",
        "                                                    random_state = SEED)\n",
        " \n",
        "# Instantiate Gradient Boosting Regressor\n",
        "gbc = GradientBoostingClassifier(n_estimators=300,\n",
        "                                 learning_rate=0.05,\n",
        "                                 random_state=100,\n",
        "                                 max_features=5 )\n",
        "# Fit to training set\n",
        "gbc.fit(train_x, train_y)\n",
        " \n",
        "# Predict on test set\n",
        "pred_y = gbc.predict(test_x)\n",
        " \n",
        "from sklearn import preprocessing\n",
        "  \n",
        "label_encoder = preprocessing.LabelEncoder()\n",
        "\n",
        "y = label_encoder.fit_transform(y)\n",
        "test_y = label_encoder.fit_transform(test_y)\n",
        "pred_y = label_encoder.fit_transform(pred_y)\n",
        "\n",
        "\n",
        "\n",
        "accuracy3 = accuracy_score(test_y, pred_y)\n",
        "print('Accuracy:', accuracy3)\n",
        "recall3 = recall_score(test_y, pred_y)\n",
        "print('Recall:', recall3)\n",
        "precision3 = precision_score(test_y, pred_y)\n",
        "print('Precision:', precision3)\n",
        "f13 = f1_score(test_y,pred_y)\n",
        "print('F1_score:', f13)"
      ],
      "metadata": {
        "colab": {
          "base_uri": "https://localhost:8080/"
        },
        "id": "RRypkRPshxt4",
        "outputId": "f82ebcb7-b4b4-4265-c4ce-a8c6d6fb5380"
      },
      "execution_count": 101,
      "outputs": [
        {
          "output_type": "stream",
          "name": "stdout",
          "text": [
            "Accuracy: 0.9707602339181286\n",
            "Recall: 0.9692307692307692\n",
            "Precision: 0.9545454545454546\n",
            "F1_score: 0.9618320610687022\n"
          ]
        }
      ]
    },
    {
      "cell_type": "code",
      "source": [
        "#MLP\n",
        "\n",
        "import pandas as pd\n",
        "import numpy as np\n",
        "from sklearn.metrics import accuracy_score, recall_score, precision_score, f1_score\n",
        "from sklearn.model_selection import train_test_split\n",
        "from sklearn.neural_network import MLPClassifier\n",
        "from sklearn.metrics import classification_report, confusion_matrix\n",
        "from sklearn.datasets import load_iris\n",
        "\n",
        "# Load sample data\n",
        "df = pd.read_csv('/content/Breast Cancer.csv')\n",
        "df\n",
        "x=df.drop(['Sample code number','Class'],axis=1)\n",
        "x\n",
        "y=np.array(df['Class'])\n",
        "x_train,x_test,y_train,y_test=train_test_split(x,y,test_size=0.2)\n",
        "# Create an MLP classifier\n",
        "mlp = MLPClassifier(hidden_layer_sizes=(100, ),        # Number of hidden layers and units per layer\n",
        "                    activation='relu',                 # Activation function ('identity', 'logistic', 'tanh', 'relu')\n",
        "                    solver='adam',                     # Solver for weight optimization ('lbfgs', 'sgd', 'adam')\n",
        "                    alpha=0.0001,                      # L2 penalty (regularization term) parameter\n",
        "                    batch_size='auto',                 # Size of minibatches for stochastic optimizers\n",
        "                    learning_rate='adaptive',          # Learning rate schedule ('constant', 'invscaling', 'adaptive')\n",
        "                    learning_rate_init=0.005,          # The initial learning rate\n",
        "                    power_t=0.5,                       # The exponent for inverse scaling learning rate\n",
        "                    max_iter=200,                      # Maximum number of iterations\n",
        "                    shuffle=True,                      # Whether to shuffle samples in each iteration\n",
        "                    random_state=None,                 # Seed for the random number generator\n",
        "                    tol=0.0001,                        # Tolerance for the optimization\n",
        "                    verbose=False,                     # Whether to print progress messages\n",
        "                    warm_start=False,                  # Reuse the previous solution\n",
        "                    momentum=0.9,                      # Momentum for gradient descent update\n",
        "                    nesterovs_momentum=True,           # Whether to use Nesterov's momentum\n",
        "                    early_stopping=False,              # Terminate training when validation score is not improving\n",
        "                    validation_fraction=0.1,           # Proportion of training data to set aside as validation set\n",
        "                    beta_1=0.9,                        # Exponential decay rate for estimates of first moment vector in adam\n",
        "                    beta_2=0.999,                      # Exponential decay rate for estimates of second moment vector in adam\n",
        "                    epsilon=1e-8,                      # Value for numerical stability in adam\n",
        "                    n_iter_no_change=10,               # Maximum number of epochs without any improvement in the loss\n",
        "                    max_fun=15000)                     # Maximum number of function calls for the solver\n",
        "\n",
        "# Train the MLP classifier\n",
        "mlp.fit(x_train, y_train)\n",
        "\n",
        "# Make predictions\n",
        "y_pred = mlp.predict(x_test)\n",
        "\n",
        "\n",
        "from sklearn import preprocessing\n",
        "  \n",
        "label_encoder = preprocessing.LabelEncoder()\n",
        "\n",
        "y = label_encoder.fit_transform(y)\n",
        "test_y = label_encoder.fit_transform(y_test)\n",
        "pred_y = label_encoder.fit_transform(y_pred)\n",
        "\n",
        "\n",
        "\n",
        "accuracy4 = accuracy_score(test_y, pred_y)\n",
        "print('Accuracy:', accuracy4)\n",
        "recall4 = recall_score(test_y, pred_y)\n",
        "print('Recall:', recall4)\n",
        "precision4= precision_score(test_y, pred_y)\n",
        "print('Precision:', precision4)\n",
        "f14 = f1_score(test_y,pred_y)\n",
        "print('F1_score:', f14)\n",
        "\n",
        "\n"
      ],
      "metadata": {
        "id": "iZ1EoWnxiwmY",
        "colab": {
          "base_uri": "https://localhost:8080/"
        },
        "outputId": "ef097ec1-a5d6-4020-c414-908cdbf8b8dc"
      },
      "execution_count": 102,
      "outputs": [
        {
          "output_type": "stream",
          "name": "stdout",
          "text": [
            "Accuracy: 0.9562043795620438\n",
            "Recall: 0.925\n",
            "Precision: 0.925\n",
            "F1_score: 0.925\n"
          ]
        },
        {
          "output_type": "stream",
          "name": "stderr",
          "text": [
            "/usr/local/lib/python3.10/dist-packages/sklearn/neural_network/_multilayer_perceptron.py:686: ConvergenceWarning: Stochastic Optimizer: Maximum iterations (200) reached and the optimization hasn't converged yet.\n",
            "  warnings.warn(\n"
          ]
        }
      ]
    },
    {
      "cell_type": "code",
      "source": [
        "#logistic regression\n",
        "\n",
        "import numpy as np\n",
        "import pandas as pd\n",
        "from sklearn import datasets\n",
        "from sklearn.metrics import accuracy_score, recall_score, precision_score, f1_score\n",
        "from sklearn.model_selection import train_test_split\n",
        "from sklearn.linear_model import LogisticRegression\n",
        "from sklearn.metrics import accuracy_score\n",
        "\n",
        "data = pd.read_csv('/content/Breast Cancer.csv')\n",
        "\n",
        "X = data.drop(['Class'] , axis = 1)\n",
        "y = np.array(data['Class'])\n",
        "\n",
        "\n",
        "X_train,X_test,y_train,y_test = train_test_split(X,y,test_size=0.20, random_state=42)\n",
        "\n",
        "\n",
        "\n",
        "\n",
        "classifier = LogisticRegression(solver='lbfgs',random_state=0)\n",
        "classifier.fit(X_train, y_train)\n",
        "\n",
        "\n",
        "\n",
        "predicted_y = classifier.predict(X_test)\n",
        "from sklearn import preprocessing\n",
        "  \n",
        "label_encoder = preprocessing.LabelEncoder()\n",
        "\n",
        "y = label_encoder.fit_transform(y)\n",
        "test_y = label_encoder.fit_transform(y_test)\n",
        "pred_y = label_encoder.fit_transform(predicted_y)\n",
        "\n",
        "\n",
        "\n",
        "accuracy5 = accuracy_score(test_y, pred_y)\n",
        "print('Accuracy:', accuracy5)\n",
        "recall5 = recall_score(test_y, pred_y)\n",
        "print('Recall:', recall5)\n",
        "precision5= precision_score(test_y, pred_y)\n",
        "print('Precision:', precision5)\n",
        "f15 = f1_score(test_y,pred_y)\n",
        "print('F1_score:', f15)"
      ],
      "metadata": {
        "colab": {
          "base_uri": "https://localhost:8080/"
        },
        "id": "lb0RWO2YlWq4",
        "outputId": "149b8f89-f893-4390-e5ce-72338cf3879e"
      },
      "execution_count": 103,
      "outputs": [
        {
          "output_type": "stream",
          "name": "stdout",
          "text": [
            "Accuracy: 0.9416058394160584\n",
            "Recall: 0.896551724137931\n",
            "Precision: 0.9629629629629629\n",
            "F1_score: 0.9285714285714286\n"
          ]
        }
      ]
    },
    {
      "cell_type": "code",
      "source": [
        "#knn\n",
        "\n",
        "\n",
        "import pandas as pd\n",
        "import numpy as np\n",
        "from sklearn.neighbors import KNeighborsClassifier\n",
        "from sklearn.model_selection import train_test_split\n",
        "from sklearn.naive_bayes import GaussianNB\n",
        "from sklearn.metrics import accuracy_score, recall_score, precision_score, f1_score\n",
        "from sklearn import preprocessing\n",
        "import seaborn as sns\n",
        "import matplotlib.pyplot as plt\n",
        "from sklearn.metrics import confusion_matrix\n",
        "from sklearn import preprocessing\n",
        "\n",
        "\n",
        "# Load the training data\n",
        "df = pd.read_csv('/content/Breast Cancer.csv')\n",
        "\n",
        "# Create feature and target arrays\n",
        "X = X = df.drop(['Class'] , axis = 1)\n",
        "\n",
        "y = np.array(df['Class'])\n",
        "\n",
        "\n",
        "\n",
        "# Split into training and test set\n",
        "X_train, X_test, y_train, y_test = train_test_split(\n",
        "             X, y, test_size = 0.2, random_state=42)\n",
        "  \n",
        "neighbors = np.arange(1, 9)\n",
        "train_accuracy = np.empty(len(neighbors))\n",
        "test_accuracy = np.empty(len(neighbors))\n",
        "  \n",
        "\n",
        "\n",
        "# Loop over K values\n",
        "for i, k in enumerate(neighbors):\n",
        "    knn = KNeighborsClassifier(n_neighbors=k)\n",
        "    knn.fit(X_train, y_train)\n",
        "      \n",
        "    # Compute training and test data accuracy\n",
        "    train_accuracy[i] = knn.score(X_train, y_train)\n",
        "    test_accuracy[i] = knn.score(X_test, y_test)\n",
        "  \n",
        "\n",
        "\n",
        "# Predict on test set\n",
        "pred_y = knn.predict(X_test)\n",
        " \n",
        "from sklearn import preprocessing\n",
        "  \n",
        "label_encoder = preprocessing.LabelEncoder()\n",
        "\n",
        "y = label_encoder.fit_transform(y)\n",
        "test_y = label_encoder.fit_transform(y_test)\n",
        "pred_y = label_encoder.fit_transform(pred_y)\n",
        "\n",
        "\n",
        "\n",
        "accuracy6 = accuracy_score(test_y, pred_y)\n",
        "print('Accuracy:', accuracy6)\n",
        "recall6 = recall_score(test_y, pred_y)\n",
        "print('Recall:', recall6)\n",
        "precision6 = precision_score(test_y, pred_y)\n",
        "print('Precision:', precision6)\n",
        "f16 = f1_score(test_y,pred_y)\n",
        "print('F1_score:', f16)\n"
      ],
      "metadata": {
        "id": "TKb9rT6xoGr7",
        "colab": {
          "base_uri": "https://localhost:8080/"
        },
        "outputId": "e5ac4f4e-52e7-4edd-9272-ffdb5a233738"
      },
      "execution_count": 104,
      "outputs": [
        {
          "output_type": "stream",
          "name": "stdout",
          "text": [
            "Accuracy: 0.6058394160583942\n",
            "Recall: 0.15517241379310345\n",
            "Precision: 0.6428571428571429\n",
            "F1_score: 0.25000000000000006\n"
          ]
        }
      ]
    },
    {
      "cell_type": "code",
      "source": [
        "from tabulate import tabulate\n",
        "\n",
        "\n",
        "\n",
        "\n",
        "table = [[\"Classsifier name\", \"Accuracy\", \"Recall\", \"Precision\",\"f1-score\"], \n",
        "         [\"Naive bayes\", accuracy1, recall1, precision1,f11], \n",
        "         [\"SVM\", accuracy2, recall2, precision2,f12], \n",
        "         [\"Gradient Boosting\", accuracy3, recall3, precision3,f13],\n",
        "         [\"MLP\", accuracy4, recall4, precision4,f14],\n",
        "         [\"Logistic regression\", accuracy5, recall5, precision5,f15],\n",
        "         [\"KNN\", accuracy6, recall6, precision2,f16]\n",
        "         ]\n",
        "\n",
        "\n",
        "\n",
        "print(tabulate(table, headers='firstrow', tablefmt='fancy_grid'))"
      ],
      "metadata": {
        "colab": {
          "base_uri": "https://localhost:8080/"
        },
        "id": "PTKiKve_a-h4",
        "outputId": "6dadd8d6-3f85-41d1-e1a8-473e7bde01b7"
      },
      "execution_count": 105,
      "outputs": [
        {
          "output_type": "stream",
          "name": "stdout",
          "text": [
            "╒═════════════════════╤════════════╤══════════╤═════════════╤════════════╕\n",
            "│ Classsifier name    │   Accuracy │   Recall │   Precision │   f1-score │\n",
            "╞═════════════════════╪════════════╪══════════╪═════════════╪════════════╡\n",
            "│ Naive bayes         │   0.963504 │ 1        │    0.90566  │   0.950495 │\n",
            "├─────────────────────┼────────────┼──────────┼─────────────┼────────────┤\n",
            "│ SVM                 │   0.948905 │ 0.913793 │    0.963636 │   0.938053 │\n",
            "├─────────────────────┼────────────┼──────────┼─────────────┼────────────┤\n",
            "│ Gradient Boosting   │   0.97076  │ 0.969231 │    0.954545 │   0.961832 │\n",
            "├─────────────────────┼────────────┼──────────┼─────────────┼────────────┤\n",
            "│ MLP                 │   0.956204 │ 0.925    │    0.925    │   0.925    │\n",
            "├─────────────────────┼────────────┼──────────┼─────────────┼────────────┤\n",
            "│ Logistic regression │   0.941606 │ 0.896552 │    0.962963 │   0.928571 │\n",
            "├─────────────────────┼────────────┼──────────┼─────────────┼────────────┤\n",
            "│ KNN                 │   0.605839 │ 0.155172 │    0.963636 │   0.25     │\n",
            "╘═════════════════════╧════════════╧══════════╧═════════════╧════════════╛\n"
          ]
        }
      ]
    }
  ]
}